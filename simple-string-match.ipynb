{
 "cells": [
  {
   "cell_type": "code",
   "execution_count": 1,
   "id": "divided-distance",
   "metadata": {
    "execution": {
     "iopub.execute_input": "2021-05-28T19:39:13.470745Z",
     "iopub.status.busy": "2021-05-28T19:39:13.470065Z",
     "iopub.status.idle": "2021-05-28T19:39:13.472463Z",
     "shell.execute_reply": "2021-05-28T19:39:13.473071Z",
     "shell.execute_reply.started": "2021-05-28T19:37:51.335728Z"
    },
    "papermill": {
     "duration": 0.032359,
     "end_time": "2021-05-28T19:39:13.473367",
     "exception": false,
     "start_time": "2021-05-28T19:39:13.441008",
     "status": "completed"
    },
    "tags": []
   },
   "outputs": [],
   "source": [
    "# This Python 3 environment comes with many helpful analytics libraries installed\n",
    "# It is defined by the kaggle/python Docker image: https://github.com/kaggle/docker-python\n",
    "# For example, here's several helpful packages to load\n",
    "import os\n",
    "import re\n",
    "import json\n",
    "\n",
    "import numpy as np \n",
    "import pandas as pd \n",
    "\n",
    "import glob\n",
    "\n",
    "import matplotlib.pyplot as plt"
   ]
  },
  {
   "cell_type": "code",
   "execution_count": 2,
   "id": "invisible-colombia",
   "metadata": {
    "execution": {
     "iopub.execute_input": "2021-05-28T19:39:13.511371Z",
     "iopub.status.busy": "2021-05-28T19:39:13.510674Z",
     "iopub.status.idle": "2021-05-28T19:39:13.666591Z",
     "shell.execute_reply": "2021-05-28T19:39:13.667126Z",
     "shell.execute_reply.started": "2021-05-28T19:37:51.343563Z"
    },
    "papermill": {
     "duration": 0.177332,
     "end_time": "2021-05-28T19:39:13.667304",
     "exception": false,
     "start_time": "2021-05-28T19:39:13.489972",
     "status": "completed"
    },
    "tags": []
   },
   "outputs": [
    {
     "data": {
      "text/html": [
       "<div>\n",
       "<style scoped>\n",
       "    .dataframe tbody tr th:only-of-type {\n",
       "        vertical-align: middle;\n",
       "    }\n",
       "\n",
       "    .dataframe tbody tr th {\n",
       "        vertical-align: top;\n",
       "    }\n",
       "\n",
       "    .dataframe thead th {\n",
       "        text-align: right;\n",
       "    }\n",
       "</style>\n",
       "<table border=\"1\" class=\"dataframe\">\n",
       "  <thead>\n",
       "    <tr style=\"text-align: right;\">\n",
       "      <th></th>\n",
       "      <th>Id</th>\n",
       "      <th>pub_title</th>\n",
       "      <th>dataset_title</th>\n",
       "      <th>dataset_label</th>\n",
       "      <th>cleaned_label</th>\n",
       "    </tr>\n",
       "  </thead>\n",
       "  <tbody>\n",
       "    <tr>\n",
       "      <th>703</th>\n",
       "      <td>b76fb7f9-338f-41a9-9db3-4a6d37313ee6</td>\n",
       "      <td>Prostate-Specific Antigen Testing of Older Men</td>\n",
       "      <td>Baltimore Longitudinal Study of Aging (BLSA)</td>\n",
       "      <td>Baltimore Longitudinal Study of Aging (BLSA)</td>\n",
       "      <td>baltimore longitudinal study of aging blsa</td>\n",
       "    </tr>\n",
       "    <tr>\n",
       "      <th>11113</th>\n",
       "      <td>c6ee1b1d-76ba-4f29-a998-34b4cc84231d</td>\n",
       "      <td>Small Differences that Matter: Mistakes in App...</td>\n",
       "      <td>Beginning Postsecondary Student</td>\n",
       "      <td>Beginning Postsecondary Students</td>\n",
       "      <td>beginning postsecondary students</td>\n",
       "    </tr>\n",
       "  </tbody>\n",
       "</table>\n",
       "</div>"
      ],
      "text/plain": [
       "                                         Id  \\\n",
       "703    b76fb7f9-338f-41a9-9db3-4a6d37313ee6   \n",
       "11113  c6ee1b1d-76ba-4f29-a998-34b4cc84231d   \n",
       "\n",
       "                                               pub_title  \\\n",
       "703       Prostate-Specific Antigen Testing of Older Men   \n",
       "11113  Small Differences that Matter: Mistakes in App...   \n",
       "\n",
       "                                      dataset_title  \\\n",
       "703    Baltimore Longitudinal Study of Aging (BLSA)   \n",
       "11113               Beginning Postsecondary Student   \n",
       "\n",
       "                                      dataset_label  \\\n",
       "703    Baltimore Longitudinal Study of Aging (BLSA)   \n",
       "11113              Beginning Postsecondary Students   \n",
       "\n",
       "                                     cleaned_label  \n",
       "703    baltimore longitudinal study of aging blsa   \n",
       "11113             beginning postsecondary students  "
      ]
     },
     "execution_count": 2,
     "metadata": {},
     "output_type": "execute_result"
    }
   ],
   "source": [
    "train_df = pd.read_csv('../input/coleridgeinitiative-show-us-the-data/train.csv')\n",
    "train_df.sample(2)"
   ]
  },
  {
   "cell_type": "code",
   "execution_count": 3,
   "id": "tutorial-hartford",
   "metadata": {
    "execution": {
     "iopub.execute_input": "2021-05-28T19:39:13.700039Z",
     "iopub.status.busy": "2021-05-28T19:39:13.699038Z",
     "iopub.status.idle": "2021-05-28T19:39:13.716491Z",
     "shell.execute_reply": "2021-05-28T19:39:13.715984Z",
     "shell.execute_reply.started": "2021-05-28T19:37:51.450425Z"
    },
    "papermill": {
     "duration": 0.034881,
     "end_time": "2021-05-28T19:39:13.716659",
     "exception": false,
     "start_time": "2021-05-28T19:39:13.681778",
     "status": "completed"
    },
    "tags": []
   },
   "outputs": [
    {
     "data": {
      "text/html": [
       "<div>\n",
       "<style scoped>\n",
       "    .dataframe tbody tr th:only-of-type {\n",
       "        vertical-align: middle;\n",
       "    }\n",
       "\n",
       "    .dataframe tbody tr th {\n",
       "        vertical-align: top;\n",
       "    }\n",
       "\n",
       "    .dataframe thead th {\n",
       "        text-align: right;\n",
       "    }\n",
       "</style>\n",
       "<table border=\"1\" class=\"dataframe\">\n",
       "  <thead>\n",
       "    <tr style=\"text-align: right;\">\n",
       "      <th></th>\n",
       "      <th>Id</th>\n",
       "      <th>PredictionString</th>\n",
       "    </tr>\n",
       "  </thead>\n",
       "  <tbody>\n",
       "    <tr>\n",
       "      <th>3</th>\n",
       "      <td>8e6996b4-ca08-4c0b-bed2-aaf07a4c6a60</td>\n",
       "      <td>NaN</td>\n",
       "    </tr>\n",
       "    <tr>\n",
       "      <th>1</th>\n",
       "      <td>2f392438-e215-4169-bebf-21ac4ff253e1</td>\n",
       "      <td>NaN</td>\n",
       "    </tr>\n",
       "    <tr>\n",
       "      <th>0</th>\n",
       "      <td>2100032a-7c33-4bff-97ef-690822c43466</td>\n",
       "      <td>NaN</td>\n",
       "    </tr>\n",
       "  </tbody>\n",
       "</table>\n",
       "</div>"
      ],
      "text/plain": [
       "                                     Id  PredictionString\n",
       "3  8e6996b4-ca08-4c0b-bed2-aaf07a4c6a60               NaN\n",
       "1  2f392438-e215-4169-bebf-21ac4ff253e1               NaN\n",
       "0  2100032a-7c33-4bff-97ef-690822c43466               NaN"
      ]
     },
     "execution_count": 3,
     "metadata": {},
     "output_type": "execute_result"
    }
   ],
   "source": [
    "sub_df = pd.read_csv('../input/coleridgeinitiative-show-us-the-data/sample_submission.csv')\n",
    "sub_df.sample(3)"
   ]
  },
  {
   "cell_type": "code",
   "execution_count": 4,
   "id": "favorite-cherry",
   "metadata": {
    "execution": {
     "iopub.execute_input": "2021-05-28T19:39:13.752806Z",
     "iopub.status.busy": "2021-05-28T19:39:13.751852Z",
     "iopub.status.idle": "2021-05-28T19:39:13.756591Z",
     "shell.execute_reply": "2021-05-28T19:39:13.756013Z",
     "shell.execute_reply.started": "2021-05-28T19:37:51.467452Z"
    },
    "papermill": {
     "duration": 0.02506,
     "end_time": "2021-05-28T19:39:13.756758",
     "exception": false,
     "start_time": "2021-05-28T19:39:13.731698",
     "status": "completed"
    },
    "tags": []
   },
   "outputs": [
    {
     "data": {
      "text/plain": [
       "Index(['Id', 'pub_title', 'dataset_title', 'dataset_label', 'cleaned_label'], dtype='object')"
      ]
     },
     "execution_count": 4,
     "metadata": {},
     "output_type": "execute_result"
    }
   ],
   "source": [
    "train_df.columns"
   ]
  },
  {
   "cell_type": "code",
   "execution_count": 5,
   "id": "widespread-diabetes",
   "metadata": {
    "execution": {
     "iopub.execute_input": "2021-05-28T19:39:13.792595Z",
     "iopub.status.busy": "2021-05-28T19:39:13.791533Z",
     "iopub.status.idle": "2021-05-28T19:39:13.795203Z",
     "shell.execute_reply": "2021-05-28T19:39:13.794551Z",
     "shell.execute_reply.started": "2021-05-28T19:37:51.477882Z"
    },
    "papermill": {
     "duration": 0.023595,
     "end_time": "2021-05-28T19:39:13.795340",
     "exception": false,
     "start_time": "2021-05-28T19:39:13.771745",
     "status": "completed"
    },
    "tags": []
   },
   "outputs": [],
   "source": [
    "def clean_text(txt):\n",
    "    return re.sub('[^A-Za-z0-9]+', ' ', str(txt).lower()).strip()"
   ]
  },
  {
   "cell_type": "code",
   "execution_count": 6,
   "id": "popular-andrew",
   "metadata": {
    "execution": {
     "iopub.execute_input": "2021-05-28T19:39:13.828420Z",
     "iopub.status.busy": "2021-05-28T19:39:13.827812Z",
     "iopub.status.idle": "2021-05-28T19:39:13.844466Z",
     "shell.execute_reply": "2021-05-28T19:39:13.845112Z",
     "shell.execute_reply.started": "2021-05-28T19:37:51.486288Z"
    },
    "papermill": {
     "duration": 0.034877,
     "end_time": "2021-05-28T19:39:13.845293",
     "exception": false,
     "start_time": "2021-05-28T19:39:13.810416",
     "status": "completed"
    },
    "tags": []
   },
   "outputs": [],
   "source": [
    "title1 = [temp_title.lower() for temp_title in train_df['dataset_label'].unique()]\n",
    "label1 = [temp_label.lower() for temp_label in train_df['dataset_title'].unique()]\n",
    "clabel1 = [temp_cleanLabel.lower() for temp_cleanLabel in train_df['cleaned_label'].unique()]\n",
    "\n",
    "all_labels1 = list(set(list(map(clean_text, set(title1))) + list(map(clean_text, set(label1)))))"
   ]
  },
  {
   "cell_type": "code",
   "execution_count": 7,
   "id": "stainless-elimination",
   "metadata": {
    "execution": {
     "iopub.execute_input": "2021-05-28T19:39:13.878220Z",
     "iopub.status.busy": "2021-05-28T19:39:13.877511Z",
     "iopub.status.idle": "2021-05-28T19:39:13.885574Z",
     "shell.execute_reply": "2021-05-28T19:39:13.886131Z",
     "shell.execute_reply.started": "2021-05-28T19:37:51.507176Z"
    },
    "papermill": {
     "duration": 0.026067,
     "end_time": "2021-05-28T19:39:13.886304",
     "exception": false,
     "start_time": "2021-05-28T19:39:13.860237",
     "status": "completed"
    },
    "tags": []
   },
   "outputs": [
    {
     "data": {
      "text/plain": [
       "['../input/coleridgeinitiative-show-us-the-data/test/8e6996b4-ca08-4c0b-bed2-aaf07a4c6a60.json',\n",
       " '../input/coleridgeinitiative-show-us-the-data/test/2100032a-7c33-4bff-97ef-690822c43466.json',\n",
       " '../input/coleridgeinitiative-show-us-the-data/test/2f392438-e215-4169-bebf-21ac4ff253e1.json',\n",
       " '../input/coleridgeinitiative-show-us-the-data/test/3f316b38-1a24-45a9-8d8c-4e05a42257c6.json']"
      ]
     },
     "execution_count": 7,
     "metadata": {},
     "output_type": "execute_result"
    }
   ],
   "source": [
    "train_files = glob.glob(\"../input/coleridgeinitiative-show-us-the-data/test/*.json\")\n",
    "train_files"
   ]
  },
  {
   "cell_type": "code",
   "execution_count": 8,
   "id": "sublime-george",
   "metadata": {
    "execution": {
     "iopub.execute_input": "2021-05-28T19:39:13.921482Z",
     "iopub.status.busy": "2021-05-28T19:39:13.920835Z",
     "iopub.status.idle": "2021-05-28T19:39:13.924629Z",
     "shell.execute_reply": "2021-05-28T19:39:13.924099Z",
     "shell.execute_reply.started": "2021-05-28T19:37:51.518845Z"
    },
    "papermill": {
     "duration": 0.023311,
     "end_time": "2021-05-28T19:39:13.924819",
     "exception": false,
     "start_time": "2021-05-28T19:39:13.901508",
     "status": "completed"
    },
    "tags": []
   },
   "outputs": [],
   "source": [
    "test_files = glob.glob(\"../input/coleridgeinitiative-show-us-the-data/test/*.json\")"
   ]
  },
  {
   "cell_type": "code",
   "execution_count": 9,
   "id": "adjustable-graduation",
   "metadata": {
    "execution": {
     "iopub.execute_input": "2021-05-28T19:39:13.958991Z",
     "iopub.status.busy": "2021-05-28T19:39:13.958076Z",
     "iopub.status.idle": "2021-05-28T19:39:14.026203Z",
     "shell.execute_reply": "2021-05-28T19:39:14.025672Z",
     "shell.execute_reply.started": "2021-05-28T19:37:51.526678Z"
    },
    "papermill": {
     "duration": 0.086244,
     "end_time": "2021-05-28T19:39:14.026352",
     "exception": false,
     "start_time": "2021-05-28T19:39:13.940108",
     "status": "completed"
    },
    "tags": []
   },
   "outputs": [],
   "source": [
    "test_df = pd.DataFrame()\n",
    "\n",
    "for test_file in test_files:\n",
    "    text_data=pd.read_json(test_file)\n",
    "    text_data.insert(0,'id', test_file.split('/')[-1].split('.')[0]) \n",
    "    test_df = pd.concat([test_df, text_data])"
   ]
  },
  {
   "cell_type": "code",
   "execution_count": 10,
   "id": "israeli-starter",
   "metadata": {
    "execution": {
     "iopub.execute_input": "2021-05-28T19:39:14.067954Z",
     "iopub.status.busy": "2021-05-28T19:39:14.067309Z",
     "iopub.status.idle": "2021-05-28T19:39:14.071163Z",
     "shell.execute_reply": "2021-05-28T19:39:14.071736Z",
     "shell.execute_reply.started": "2021-05-28T19:37:51.565905Z"
    },
    "papermill": {
     "duration": 0.030133,
     "end_time": "2021-05-28T19:39:14.071911",
     "exception": false,
     "start_time": "2021-05-28T19:39:14.041778",
     "status": "completed"
    },
    "tags": []
   },
   "outputs": [
    {
     "data": {
      "text/html": [
       "<div>\n",
       "<style scoped>\n",
       "    .dataframe tbody tr th:only-of-type {\n",
       "        vertical-align: middle;\n",
       "    }\n",
       "\n",
       "    .dataframe tbody tr th {\n",
       "        vertical-align: top;\n",
       "    }\n",
       "\n",
       "    .dataframe thead th {\n",
       "        text-align: right;\n",
       "    }\n",
       "</style>\n",
       "<table border=\"1\" class=\"dataframe\">\n",
       "  <thead>\n",
       "    <tr style=\"text-align: right;\">\n",
       "      <th></th>\n",
       "      <th>id</th>\n",
       "      <th>section_title</th>\n",
       "      <th>text</th>\n",
       "    </tr>\n",
       "  </thead>\n",
       "  <tbody>\n",
       "    <tr>\n",
       "      <th>0</th>\n",
       "      <td>8e6996b4-ca08-4c0b-bed2-aaf07a4c6a60</td>\n",
       "      <td>Introduction</td>\n",
       "      <td>A significant body of research has been conduc...</td>\n",
       "    </tr>\n",
       "    <tr>\n",
       "      <th>1</th>\n",
       "      <td>8e6996b4-ca08-4c0b-bed2-aaf07a4c6a60</td>\n",
       "      <td>Literature review</td>\n",
       "      <td>We reviewed the literature that explored retai...</td>\n",
       "    </tr>\n",
       "    <tr>\n",
       "      <th>2</th>\n",
       "      <td>8e6996b4-ca08-4c0b-bed2-aaf07a4c6a60</td>\n",
       "      <td>Food shopping patterns: where do people shop?</td>\n",
       "      <td>Diversification in the food retail sector offe...</td>\n",
       "    </tr>\n",
       "    <tr>\n",
       "      <th>3</th>\n",
       "      <td>8e6996b4-ca08-4c0b-bed2-aaf07a4c6a60</td>\n",
       "      <td>Food shopping patterns: what do people buy?</td>\n",
       "      <td>Many factors, including income, participation ...</td>\n",
       "    </tr>\n",
       "    <tr>\n",
       "      <th>4</th>\n",
       "      <td>8e6996b4-ca08-4c0b-bed2-aaf07a4c6a60</td>\n",
       "      <td>2</td>\n",
       "      <td>Anne Palmer et al. shopping at the same store ...</td>\n",
       "    </tr>\n",
       "  </tbody>\n",
       "</table>\n",
       "</div>"
      ],
      "text/plain": [
       "                                     id  \\\n",
       "0  8e6996b4-ca08-4c0b-bed2-aaf07a4c6a60   \n",
       "1  8e6996b4-ca08-4c0b-bed2-aaf07a4c6a60   \n",
       "2  8e6996b4-ca08-4c0b-bed2-aaf07a4c6a60   \n",
       "3  8e6996b4-ca08-4c0b-bed2-aaf07a4c6a60   \n",
       "4  8e6996b4-ca08-4c0b-bed2-aaf07a4c6a60   \n",
       "\n",
       "                                   section_title  \\\n",
       "0                                   Introduction   \n",
       "1                              Literature review   \n",
       "2  Food shopping patterns: where do people shop?   \n",
       "3    Food shopping patterns: what do people buy?   \n",
       "4                                              2   \n",
       "\n",
       "                                                text  \n",
       "0  A significant body of research has been conduc...  \n",
       "1  We reviewed the literature that explored retai...  \n",
       "2  Diversification in the food retail sector offe...  \n",
       "3  Many factors, including income, participation ...  \n",
       "4  Anne Palmer et al. shopping at the same store ...  "
      ]
     },
     "execution_count": 10,
     "metadata": {},
     "output_type": "execute_result"
    }
   ],
   "source": [
    "test_df.head()"
   ]
  },
  {
   "cell_type": "code",
   "execution_count": 11,
   "id": "adolescent-settle",
   "metadata": {
    "execution": {
     "iopub.execute_input": "2021-05-28T19:39:14.106730Z",
     "iopub.status.busy": "2021-05-28T19:39:14.106052Z",
     "iopub.status.idle": "2021-05-28T19:39:14.146102Z",
     "shell.execute_reply": "2021-05-28T19:39:14.145412Z",
     "shell.execute_reply.started": "2021-05-28T19:37:51.579653Z"
    },
    "papermill": {
     "duration": 0.05847,
     "end_time": "2021-05-28T19:39:14.146257",
     "exception": false,
     "start_time": "2021-05-28T19:39:14.087787",
     "status": "completed"
    },
    "tags": []
   },
   "outputs": [],
   "source": [
    "test_df['cleaned_text'] = test_df.apply(lambda txt: clean_text(txt['text']).strip(), axis =1)"
   ]
  },
  {
   "cell_type": "code",
   "execution_count": 12,
   "id": "brown-vocabulary",
   "metadata": {
    "execution": {
     "iopub.execute_input": "2021-05-28T19:39:14.190049Z",
     "iopub.status.busy": "2021-05-28T19:39:14.189304Z",
     "iopub.status.idle": "2021-05-28T19:39:14.192121Z",
     "shell.execute_reply": "2021-05-28T19:39:14.192594Z",
     "shell.execute_reply.started": "2021-05-28T19:37:51.618175Z"
    },
    "papermill": {
     "duration": 0.030319,
     "end_time": "2021-05-28T19:39:14.192777",
     "exception": false,
     "start_time": "2021-05-28T19:39:14.162458",
     "status": "completed"
    },
    "tags": []
   },
   "outputs": [
    {
     "data": {
      "text/html": [
       "<div>\n",
       "<style scoped>\n",
       "    .dataframe tbody tr th:only-of-type {\n",
       "        vertical-align: middle;\n",
       "    }\n",
       "\n",
       "    .dataframe tbody tr th {\n",
       "        vertical-align: top;\n",
       "    }\n",
       "\n",
       "    .dataframe thead th {\n",
       "        text-align: right;\n",
       "    }\n",
       "</style>\n",
       "<table border=\"1\" class=\"dataframe\">\n",
       "  <thead>\n",
       "    <tr style=\"text-align: right;\">\n",
       "      <th></th>\n",
       "      <th>id</th>\n",
       "      <th>section_title</th>\n",
       "      <th>text</th>\n",
       "      <th>cleaned_text</th>\n",
       "    </tr>\n",
       "  </thead>\n",
       "  <tbody>\n",
       "    <tr>\n",
       "      <th>0</th>\n",
       "      <td>8e6996b4-ca08-4c0b-bed2-aaf07a4c6a60</td>\n",
       "      <td>Introduction</td>\n",
       "      <td>A significant body of research has been conduc...</td>\n",
       "      <td>a significant body of research has been conduc...</td>\n",
       "    </tr>\n",
       "    <tr>\n",
       "      <th>1</th>\n",
       "      <td>8e6996b4-ca08-4c0b-bed2-aaf07a4c6a60</td>\n",
       "      <td>Literature review</td>\n",
       "      <td>We reviewed the literature that explored retai...</td>\n",
       "      <td>we reviewed the literature that explored retai...</td>\n",
       "    </tr>\n",
       "    <tr>\n",
       "      <th>2</th>\n",
       "      <td>8e6996b4-ca08-4c0b-bed2-aaf07a4c6a60</td>\n",
       "      <td>Food shopping patterns: where do people shop?</td>\n",
       "      <td>Diversification in the food retail sector offe...</td>\n",
       "      <td>diversification in the food retail sector offe...</td>\n",
       "    </tr>\n",
       "    <tr>\n",
       "      <th>3</th>\n",
       "      <td>8e6996b4-ca08-4c0b-bed2-aaf07a4c6a60</td>\n",
       "      <td>Food shopping patterns: what do people buy?</td>\n",
       "      <td>Many factors, including income, participation ...</td>\n",
       "      <td>many factors including income participation in...</td>\n",
       "    </tr>\n",
       "    <tr>\n",
       "      <th>4</th>\n",
       "      <td>8e6996b4-ca08-4c0b-bed2-aaf07a4c6a60</td>\n",
       "      <td>2</td>\n",
       "      <td>Anne Palmer et al. shopping at the same store ...</td>\n",
       "      <td>anne palmer et al shopping at the same store h...</td>\n",
       "    </tr>\n",
       "  </tbody>\n",
       "</table>\n",
       "</div>"
      ],
      "text/plain": [
       "                                     id  \\\n",
       "0  8e6996b4-ca08-4c0b-bed2-aaf07a4c6a60   \n",
       "1  8e6996b4-ca08-4c0b-bed2-aaf07a4c6a60   \n",
       "2  8e6996b4-ca08-4c0b-bed2-aaf07a4c6a60   \n",
       "3  8e6996b4-ca08-4c0b-bed2-aaf07a4c6a60   \n",
       "4  8e6996b4-ca08-4c0b-bed2-aaf07a4c6a60   \n",
       "\n",
       "                                   section_title  \\\n",
       "0                                   Introduction   \n",
       "1                              Literature review   \n",
       "2  Food shopping patterns: where do people shop?   \n",
       "3    Food shopping patterns: what do people buy?   \n",
       "4                                              2   \n",
       "\n",
       "                                                text  \\\n",
       "0  A significant body of research has been conduc...   \n",
       "1  We reviewed the literature that explored retai...   \n",
       "2  Diversification in the food retail sector offe...   \n",
       "3  Many factors, including income, participation ...   \n",
       "4  Anne Palmer et al. shopping at the same store ...   \n",
       "\n",
       "                                        cleaned_text  \n",
       "0  a significant body of research has been conduc...  \n",
       "1  we reviewed the literature that explored retai...  \n",
       "2  diversification in the food retail sector offe...  \n",
       "3  many factors including income participation in...  \n",
       "4  anne palmer et al shopping at the same store h...  "
      ]
     },
     "execution_count": 12,
     "metadata": {},
     "output_type": "execute_result"
    }
   ],
   "source": [
    "test_df.head()"
   ]
  },
  {
   "cell_type": "code",
   "execution_count": 13,
   "id": "equivalent-shirt",
   "metadata": {
    "execution": {
     "iopub.execute_input": "2021-05-28T19:39:14.243638Z",
     "iopub.status.busy": "2021-05-28T19:39:14.242958Z",
     "iopub.status.idle": "2021-05-28T19:39:14.245608Z",
     "shell.execute_reply": "2021-05-28T19:39:14.246066Z",
     "shell.execute_reply.started": "2021-05-28T19:37:51.639036Z"
    },
    "papermill": {
     "duration": 0.036051,
     "end_time": "2021-05-28T19:39:14.246235",
     "exception": false,
     "start_time": "2021-05-28T19:39:14.210184",
     "status": "completed"
    },
    "tags": []
   },
   "outputs": [
    {
     "data": {
      "text/html": [
       "<div>\n",
       "<style scoped>\n",
       "    .dataframe tbody tr th:only-of-type {\n",
       "        vertical-align: middle;\n",
       "    }\n",
       "\n",
       "    .dataframe tbody tr th {\n",
       "        vertical-align: top;\n",
       "    }\n",
       "\n",
       "    .dataframe thead th {\n",
       "        text-align: right;\n",
       "    }\n",
       "</style>\n",
       "<table border=\"1\" class=\"dataframe\">\n",
       "  <thead>\n",
       "    <tr style=\"text-align: right;\">\n",
       "      <th></th>\n",
       "      <th>cleaned_text</th>\n",
       "    </tr>\n",
       "    <tr>\n",
       "      <th>id</th>\n",
       "      <th></th>\n",
       "    </tr>\n",
       "  </thead>\n",
       "  <tbody>\n",
       "    <tr>\n",
       "      <th>2100032a-7c33-4bff-97ef-690822c43466</th>\n",
       "      <td>cognitive deficits and reduced educational ach...</td>\n",
       "    </tr>\n",
       "    <tr>\n",
       "      <th>2f392438-e215-4169-bebf-21ac4ff253e1</th>\n",
       "      <td>this report describes how the education system...</td>\n",
       "    </tr>\n",
       "    <tr>\n",
       "      <th>3f316b38-1a24-45a9-8d8c-4e05a42257c6</th>\n",
       "      <td>cape hatteras national seashore caha located a...</td>\n",
       "    </tr>\n",
       "    <tr>\n",
       "      <th>8e6996b4-ca08-4c0b-bed2-aaf07a4c6a60</th>\n",
       "      <td>a significant body of research has been conduc...</td>\n",
       "    </tr>\n",
       "  </tbody>\n",
       "</table>\n",
       "</div>"
      ],
      "text/plain": [
       "                                                                           cleaned_text\n",
       "id                                                                                     \n",
       "2100032a-7c33-4bff-97ef-690822c43466  cognitive deficits and reduced educational ach...\n",
       "2f392438-e215-4169-bebf-21ac4ff253e1  this report describes how the education system...\n",
       "3f316b38-1a24-45a9-8d8c-4e05a42257c6  cape hatteras national seashore caha located a...\n",
       "8e6996b4-ca08-4c0b-bed2-aaf07a4c6a60  a significant body of research has been conduc..."
      ]
     },
     "execution_count": 13,
     "metadata": {},
     "output_type": "execute_result"
    }
   ],
   "source": [
    "test_group = pd.DataFrame(test_df.groupby(['id'])['cleaned_text'].agg(' '.join))\n",
    "\n",
    "test_group.head()"
   ]
  },
  {
   "cell_type": "code",
   "execution_count": 14,
   "id": "functioning-capitol",
   "metadata": {
    "execution": {
     "iopub.execute_input": "2021-05-28T19:39:14.282846Z",
     "iopub.status.busy": "2021-05-28T19:39:14.282177Z",
     "iopub.status.idle": "2021-05-28T19:39:14.310130Z",
     "shell.execute_reply": "2021-05-28T19:39:14.310679Z",
     "shell.execute_reply.started": "2021-05-28T19:37:51.662885Z"
    },
    "papermill": {
     "duration": 0.047919,
     "end_time": "2021-05-28T19:39:14.310879",
     "exception": false,
     "start_time": "2021-05-28T19:39:14.262960",
     "status": "completed"
    },
    "tags": []
   },
   "outputs": [],
   "source": [
    "result = test_group['cleaned_text'].apply(lambda txt: '|'.join({label for label in all_labels1 if label in txt})).reset_index()"
   ]
  },
  {
   "cell_type": "code",
   "execution_count": 15,
   "id": "interior-birthday",
   "metadata": {
    "execution": {
     "iopub.execute_input": "2021-05-28T19:39:14.347271Z",
     "iopub.status.busy": "2021-05-28T19:39:14.346629Z",
     "iopub.status.idle": "2021-05-28T19:39:14.356627Z",
     "shell.execute_reply": "2021-05-28T19:39:14.355958Z",
     "shell.execute_reply.started": "2021-05-28T19:37:51.704900Z"
    },
    "papermill": {
     "duration": 0.029176,
     "end_time": "2021-05-28T19:39:14.356787",
     "exception": false,
     "start_time": "2021-05-28T19:39:14.327611",
     "status": "completed"
    },
    "tags": []
   },
   "outputs": [
    {
     "data": {
      "text/html": [
       "<div>\n",
       "<style scoped>\n",
       "    .dataframe tbody tr th:only-of-type {\n",
       "        vertical-align: middle;\n",
       "    }\n",
       "\n",
       "    .dataframe tbody tr th {\n",
       "        vertical-align: top;\n",
       "    }\n",
       "\n",
       "    .dataframe thead th {\n",
       "        text-align: right;\n",
       "    }\n",
       "</style>\n",
       "<table border=\"1\" class=\"dataframe\">\n",
       "  <thead>\n",
       "    <tr style=\"text-align: right;\">\n",
       "      <th></th>\n",
       "      <th>Id</th>\n",
       "      <th>PredictionString</th>\n",
       "    </tr>\n",
       "  </thead>\n",
       "  <tbody>\n",
       "    <tr>\n",
       "      <th>0</th>\n",
       "      <td>2100032a-7c33-4bff-97ef-690822c43466</td>\n",
       "      <td>alzheimer s disease neuroimaging initiative ad...</td>\n",
       "    </tr>\n",
       "    <tr>\n",
       "      <th>1</th>\n",
       "      <td>2f392438-e215-4169-bebf-21ac4ff253e1</td>\n",
       "      <td>nces common core of data|common core of data|t...</td>\n",
       "    </tr>\n",
       "    <tr>\n",
       "      <th>2</th>\n",
       "      <td>3f316b38-1a24-45a9-8d8c-4e05a42257c6</td>\n",
       "      <td>slosh model|sea lake and overland surges from ...</td>\n",
       "    </tr>\n",
       "    <tr>\n",
       "      <th>3</th>\n",
       "      <td>8e6996b4-ca08-4c0b-bed2-aaf07a4c6a60</td>\n",
       "      <td>rural urban continuum codes</td>\n",
       "    </tr>\n",
       "  </tbody>\n",
       "</table>\n",
       "</div>"
      ],
      "text/plain": [
       "                                     Id  \\\n",
       "0  2100032a-7c33-4bff-97ef-690822c43466   \n",
       "1  2f392438-e215-4169-bebf-21ac4ff253e1   \n",
       "2  3f316b38-1a24-45a9-8d8c-4e05a42257c6   \n",
       "3  8e6996b4-ca08-4c0b-bed2-aaf07a4c6a60   \n",
       "\n",
       "                                    PredictionString  \n",
       "0  alzheimer s disease neuroimaging initiative ad...  \n",
       "1  nces common core of data|common core of data|t...  \n",
       "2  slosh model|sea lake and overland surges from ...  \n",
       "3                        rural urban continuum codes  "
      ]
     },
     "execution_count": 15,
     "metadata": {},
     "output_type": "execute_result"
    }
   ],
   "source": [
    "result.columns =['Id', 'PredictionString']\n",
    "result"
   ]
  },
  {
   "cell_type": "code",
   "execution_count": 16,
   "id": "parliamentary-ethernet",
   "metadata": {
    "execution": {
     "iopub.execute_input": "2021-05-28T19:39:14.396732Z",
     "iopub.status.busy": "2021-05-28T19:39:14.395672Z",
     "iopub.status.idle": "2021-05-28T19:39:14.401555Z",
     "shell.execute_reply": "2021-05-28T19:39:14.402171Z",
     "shell.execute_reply.started": "2021-05-28T19:37:51.718488Z"
    },
    "papermill": {
     "duration": 0.028353,
     "end_time": "2021-05-28T19:39:14.402346",
     "exception": false,
     "start_time": "2021-05-28T19:39:14.373993",
     "status": "completed"
    },
    "tags": []
   },
   "outputs": [],
   "source": [
    "result.to_csv('submission.csv', index=False)"
   ]
  }
 ],
 "metadata": {
  "kernelspec": {
   "display_name": "Python 3",
   "language": "python",
   "name": "python3"
  },
  "language_info": {
   "codemirror_mode": {
    "name": "ipython",
    "version": 3
   },
   "file_extension": ".py",
   "mimetype": "text/x-python",
   "name": "python",
   "nbconvert_exporter": "python",
   "pygments_lexer": "ipython3",
   "version": "3.7.10"
  },
  "papermill": {
   "default_parameters": {},
   "duration": 10.890999,
   "end_time": "2021-05-28T19:39:15.826182",
   "environment_variables": {},
   "exception": null,
   "input_path": "__notebook__.ipynb",
   "output_path": "__notebook__.ipynb",
   "parameters": {},
   "start_time": "2021-05-28T19:39:04.935183",
   "version": "2.3.3"
  }
 },
 "nbformat": 4,
 "nbformat_minor": 5
}
