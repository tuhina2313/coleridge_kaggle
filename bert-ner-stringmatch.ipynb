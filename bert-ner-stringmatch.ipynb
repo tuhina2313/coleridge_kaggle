{
 "cells": [
  {
   "cell_type": "code",
   "execution_count": 1,
   "metadata": {
    "execution": {
     "iopub.execute_input": "2021-06-03T12:39:30.269295Z",
     "iopub.status.busy": "2021-06-03T12:39:30.268632Z",
     "iopub.status.idle": "2021-06-03T12:40:57.145645Z",
     "shell.execute_reply": "2021-06-03T12:40:57.145062Z",
     "shell.execute_reply.started": "2021-06-03T12:23:14.905248Z"
    },
    "papermill": {
     "duration": 86.908563,
     "end_time": "2021-06-03T12:40:57.145858",
     "exception": false,
     "start_time": "2021-06-03T12:39:30.237295",
     "status": "completed"
    },
    "tags": []
   },
   "outputs": [
    {
     "name": "stdout",
     "output_type": "stream",
     "text": [
      "Looking in links: file:///kaggle/input/coleridge-packages/packages/datasets\r\n",
      "Processing /kaggle/input/coleridge-packages/packages/datasets/datasets-1.5.0-py3-none-any.whl\r\n",
      "Processing /kaggle/input/coleridge-packages/packages/datasets/tqdm-4.49.0-py2.py3-none-any.whl\r\n",
      "Requirement already satisfied: pandas in /opt/conda/lib/python3.7/site-packages (from datasets) (1.1.5)\r\n",
      "Requirement already satisfied: dill in /opt/conda/lib/python3.7/site-packages (from datasets) (0.3.3)\r\n",
      "Processing /kaggle/input/coleridge-packages/packages/datasets/xxhash-2.0.0-cp37-cp37m-manylinux2010_x86_64.whl\r\n",
      "Requirement already satisfied: multiprocess in /opt/conda/lib/python3.7/site-packages (from datasets) (0.70.11.1)\r\n",
      "Requirement already satisfied: fsspec in /opt/conda/lib/python3.7/site-packages (from datasets) (0.8.5)\r\n",
      "Requirement already satisfied: importlib-metadata in /opt/conda/lib/python3.7/site-packages (from datasets) (3.3.0)\r\n",
      "Processing /kaggle/input/coleridge-packages/packages/datasets/huggingface_hub-0.0.7-py3-none-any.whl\r\n",
      "Requirement already satisfied: numpy>=1.17 in /opt/conda/lib/python3.7/site-packages (from datasets) (1.19.5)\r\n",
      "Requirement already satisfied: requests>=2.19.0 in /opt/conda/lib/python3.7/site-packages (from datasets) (2.25.1)\r\n",
      "Requirement already satisfied: pyarrow>=0.17.1 in /opt/conda/lib/python3.7/site-packages (from datasets) (1.0.1)\r\n",
      "Requirement already satisfied: filelock in /opt/conda/lib/python3.7/site-packages (from huggingface-hub<0.1.0->datasets) (3.0.12)\r\n",
      "Requirement already satisfied: certifi>=2017.4.17 in /opt/conda/lib/python3.7/site-packages (from requests>=2.19.0->datasets) (2020.12.5)\r\n",
      "Requirement already satisfied: urllib3<1.27,>=1.21.1 in /opt/conda/lib/python3.7/site-packages (from requests>=2.19.0->datasets) (1.26.2)\r\n",
      "Requirement already satisfied: idna<3,>=2.5 in /opt/conda/lib/python3.7/site-packages (from requests>=2.19.0->datasets) (2.10)\r\n",
      "Requirement already satisfied: chardet<5,>=3.0.2 in /opt/conda/lib/python3.7/site-packages (from requests>=2.19.0->datasets) (3.0.4)\r\n",
      "Requirement already satisfied: zipp>=0.5 in /opt/conda/lib/python3.7/site-packages (from importlib-metadata->datasets) (3.4.0)\r\n",
      "Requirement already satisfied: typing-extensions>=3.6.4 in /opt/conda/lib/python3.7/site-packages (from importlib-metadata->datasets) (3.7.4.3)\r\n",
      "Requirement already satisfied: python-dateutil>=2.7.3 in /opt/conda/lib/python3.7/site-packages (from pandas->datasets) (2.8.1)\r\n",
      "Requirement already satisfied: pytz>=2017.2 in /opt/conda/lib/python3.7/site-packages (from pandas->datasets) (2020.5)\r\n",
      "Requirement already satisfied: six>=1.5 in /opt/conda/lib/python3.7/site-packages (from python-dateutil>=2.7.3->pandas->datasets) (1.15.0)\r\n",
      "Installing collected packages: tqdm, xxhash, huggingface-hub, datasets\r\n",
      "  Attempting uninstall: tqdm\r\n",
      "    Found existing installation: tqdm 4.55.1\r\n",
      "    Uninstalling tqdm-4.55.1:\r\n",
      "      Successfully uninstalled tqdm-4.55.1\r\n",
      "Successfully installed datasets-1.5.0 huggingface-hub-0.0.7 tqdm-4.49.0 xxhash-2.0.0\r\n",
      "Processing /kaggle/input/coleridge-packages/seqeval-1.2.2-py3-none-any.whl\r\n",
      "Requirement already satisfied: numpy>=1.14.0 in /opt/conda/lib/python3.7/site-packages (from seqeval==1.2.2) (1.19.5)\r\n",
      "Requirement already satisfied: scikit-learn>=0.21.3 in /opt/conda/lib/python3.7/site-packages (from seqeval==1.2.2) (0.24.1)\r\n",
      "Requirement already satisfied: threadpoolctl>=2.0.0 in /opt/conda/lib/python3.7/site-packages (from scikit-learn>=0.21.3->seqeval==1.2.2) (2.1.0)\r\n",
      "Requirement already satisfied: joblib>=0.11 in /opt/conda/lib/python3.7/site-packages (from scikit-learn>=0.21.3->seqeval==1.2.2) (1.0.0)\r\n",
      "Requirement already satisfied: scipy>=0.19.1 in /opt/conda/lib/python3.7/site-packages (from scikit-learn>=0.21.3->seqeval==1.2.2) (1.5.4)\r\n",
      "Installing collected packages: seqeval\r\n",
      "Successfully installed seqeval-1.2.2\r\n",
      "Processing /kaggle/input/coleridge-packages/tokenizers-0.10.1-cp37-cp37m-manylinux1_x86_64.whl\r\n",
      "Installing collected packages: tokenizers\r\n",
      "  Attempting uninstall: tokenizers\r\n",
      "    Found existing installation: tokenizers 0.9.4\r\n",
      "    Uninstalling tokenizers-0.9.4:\r\n",
      "      Successfully uninstalled tokenizers-0.9.4\r\n",
      "\u001b[31mERROR: pip's dependency resolver does not currently take into account all the packages that are installed. This behaviour is the source of the following dependency conflicts.\r\n",
      "transformers 4.2.2 requires tokenizers==0.9.4, but you have tokenizers 0.10.1 which is incompatible.\u001b[0m\r\n",
      "Successfully installed tokenizers-0.10.1\r\n",
      "Processing /kaggle/input/coleridge-packages/transformers-4.5.0.dev0-py3-none-any.whl\r\n",
      "Requirement already satisfied: filelock in /opt/conda/lib/python3.7/site-packages (from transformers==4.5.0.dev0) (3.0.12)\r\n",
      "Requirement already satisfied: requests in /opt/conda/lib/python3.7/site-packages (from transformers==4.5.0.dev0) (2.25.1)\r\n",
      "Requirement already satisfied: tokenizers<0.11,>=0.10.1 in /opt/conda/lib/python3.7/site-packages (from transformers==4.5.0.dev0) (0.10.1)\r\n",
      "Requirement already satisfied: packaging in /opt/conda/lib/python3.7/site-packages (from transformers==4.5.0.dev0) (20.8)\r\n",
      "Requirement already satisfied: sacremoses in /opt/conda/lib/python3.7/site-packages (from transformers==4.5.0.dev0) (0.0.43)\r\n",
      "Requirement already satisfied: importlib-metadata in /opt/conda/lib/python3.7/site-packages (from transformers==4.5.0.dev0) (3.3.0)\r\n",
      "Requirement already satisfied: numpy>=1.17 in /opt/conda/lib/python3.7/site-packages (from transformers==4.5.0.dev0) (1.19.5)\r\n",
      "Requirement already satisfied: tqdm>=4.27 in /opt/conda/lib/python3.7/site-packages (from transformers==4.5.0.dev0) (4.49.0)\r\n",
      "Requirement already satisfied: regex!=2019.12.17 in /opt/conda/lib/python3.7/site-packages (from transformers==4.5.0.dev0) (2020.11.13)\r\n",
      "Requirement already satisfied: typing-extensions>=3.6.4 in /opt/conda/lib/python3.7/site-packages (from importlib-metadata->transformers==4.5.0.dev0) (3.7.4.3)\r\n",
      "Requirement already satisfied: zipp>=0.5 in /opt/conda/lib/python3.7/site-packages (from importlib-metadata->transformers==4.5.0.dev0) (3.4.0)\r\n",
      "Requirement already satisfied: pyparsing>=2.0.2 in /opt/conda/lib/python3.7/site-packages (from packaging->transformers==4.5.0.dev0) (2.4.7)\r\n",
      "Requirement already satisfied: certifi>=2017.4.17 in /opt/conda/lib/python3.7/site-packages (from requests->transformers==4.5.0.dev0) (2020.12.5)\r\n",
      "Requirement already satisfied: idna<3,>=2.5 in /opt/conda/lib/python3.7/site-packages (from requests->transformers==4.5.0.dev0) (2.10)\r\n",
      "Requirement already satisfied: chardet<5,>=3.0.2 in /opt/conda/lib/python3.7/site-packages (from requests->transformers==4.5.0.dev0) (3.0.4)\r\n",
      "Requirement already satisfied: urllib3<1.27,>=1.21.1 in /opt/conda/lib/python3.7/site-packages (from requests->transformers==4.5.0.dev0) (1.26.2)\r\n",
      "Requirement already satisfied: joblib in /opt/conda/lib/python3.7/site-packages (from sacremoses->transformers==4.5.0.dev0) (1.0.0)\r\n",
      "Requirement already satisfied: six in /opt/conda/lib/python3.7/site-packages (from sacremoses->transformers==4.5.0.dev0) (1.15.0)\r\n",
      "Requirement already satisfied: click in /opt/conda/lib/python3.7/site-packages (from sacremoses->transformers==4.5.0.dev0) (7.1.2)\r\n",
      "Installing collected packages: transformers\r\n",
      "  Attempting uninstall: transformers\r\n",
      "    Found existing installation: transformers 4.2.2\r\n",
      "    Uninstalling transformers-4.2.2:\r\n",
      "      Successfully uninstalled transformers-4.2.2\r\n",
      "\u001b[31mERROR: pip's dependency resolver does not currently take into account all the packages that are installed. This behaviour is the source of the following dependency conflicts.\r\n",
      "allennlp 2.0.1 requires transformers<4.3,>=4.1, but you have transformers 4.5.0.dev0 which is incompatible.\u001b[0m\r\n",
      "Successfully installed transformers-4.5.0.dev0\r\n"
     ]
    }
   ],
   "source": [
    "!pip install datasets --no-index --find-links=file:///kaggle/input/coleridge-packages/packages/datasets\n",
    "!pip install ../input/coleridge-packages/seqeval-1.2.2-py3-none-any.whl\n",
    "!pip install ../input/coleridge-packages/tokenizers-0.10.1-cp37-cp37m-manylinux1_x86_64.whl\n",
    "!pip install ../input/coleridge-packages/transformers-4.5.0.dev0-py3-none-any.whl"
   ]
  },
  {
   "cell_type": "code",
   "execution_count": 2,
   "metadata": {
    "_cell_guid": "b1076dfc-b9ad-4769-8c92-a6c4dae69d19",
    "_uuid": "8f2839f25d086af736a60e9eeb907d3b93b6e0e5",
    "execution": {
     "iopub.execute_input": "2021-06-03T12:40:57.206467Z",
     "iopub.status.busy": "2021-06-03T12:40:57.205743Z",
     "iopub.status.idle": "2021-06-03T12:40:57.914860Z",
     "shell.execute_reply": "2021-06-03T12:40:57.913879Z",
     "shell.execute_reply.started": "2021-06-03T12:25:56.857242Z"
    },
    "papermill": {
     "duration": 0.741389,
     "end_time": "2021-06-03T12:40:57.914997",
     "exception": false,
     "start_time": "2021-06-03T12:40:57.173608",
     "status": "completed"
    },
    "tags": []
   },
   "outputs": [],
   "source": [
    "import os\n",
    "import re\n",
    "import json\n",
    "import time\n",
    "import datetime\n",
    "import random\n",
    "import glob\n",
    "import importlib\n",
    "\n",
    "import numpy as np\n",
    "import pandas as pd\n",
    "\n",
    "from tqdm import tqdm\n",
    "import matplotlib.pyplot as plt\n",
    "import seaborn as sns\n",
    "\n",
    "random.seed(123)\n",
    "np.random.seed(456)\n",
    "\n",
    "MAX_SAMPLE = None"
   ]
  },
  {
   "cell_type": "code",
   "execution_count": 3,
   "metadata": {
    "execution": {
     "iopub.execute_input": "2021-06-03T12:40:57.973011Z",
     "iopub.status.busy": "2021-06-03T12:40:57.972438Z",
     "iopub.status.idle": "2021-06-03T12:40:58.066286Z",
     "shell.execute_reply": "2021-06-03T12:40:58.065809Z",
     "shell.execute_reply.started": "2021-06-03T12:25:59.855697Z"
    },
    "papermill": {
     "duration": 0.125508,
     "end_time": "2021-06-03T12:40:58.066406",
     "exception": false,
     "start_time": "2021-06-03T12:40:57.940898",
     "status": "completed"
    },
    "tags": []
   },
   "outputs": [],
   "source": [
    "train_df = pd.read_csv('../input/coleridgeinitiative-show-us-the-data/train.csv')\n",
    "train_df = train_df[:MAX_SAMPLE]"
   ]
  },
  {
   "cell_type": "code",
   "execution_count": 4,
   "metadata": {
    "execution": {
     "iopub.execute_input": "2021-06-03T12:40:58.128442Z",
     "iopub.status.busy": "2021-06-03T12:40:58.125755Z",
     "iopub.status.idle": "2021-06-03T12:41:47.244912Z",
     "shell.execute_reply": "2021-06-03T12:41:47.246117Z",
     "shell.execute_reply.started": "2021-06-03T12:26:01.729012Z"
    },
    "papermill": {
     "duration": 49.154312,
     "end_time": "2021-06-03T12:41:47.246453",
     "exception": false,
     "start_time": "2021-06-03T12:40:58.092141",
     "status": "completed"
    },
    "tags": []
   },
   "outputs": [],
   "source": [
    "paper_train_folder = '../input/coleridgeinitiative-show-us-the-data/train'\n",
    "papers = {}\n",
    "for paper_id in train_df['Id'].unique():\n",
    "    with open(f'{paper_train_folder}/{paper_id}.json', 'r') as f:\n",
    "        paper = json.load(f)\n",
    "        papers[paper_id] = paper"
   ]
  },
  {
   "cell_type": "code",
   "execution_count": 5,
   "metadata": {
    "execution": {
     "iopub.execute_input": "2021-06-03T12:41:47.352478Z",
     "iopub.status.busy": "2021-06-03T12:41:47.351729Z",
     "iopub.status.idle": "2021-06-03T12:41:47.363859Z",
     "shell.execute_reply": "2021-06-03T12:41:47.364419Z",
     "shell.execute_reply.started": "2021-06-03T12:27:17.455331Z"
    },
    "papermill": {
     "duration": 0.067905,
     "end_time": "2021-06-03T12:41:47.364616",
     "exception": false,
     "start_time": "2021-06-03T12:41:47.296711",
     "status": "completed"
    },
    "tags": []
   },
   "outputs": [],
   "source": [
    "sub_df = pd.read_csv('../input/coleridgeinitiative-show-us-the-data/sample_submission.csv')\n",
    "\n",
    "test_files = glob.glob(\"../input/coleridgeinitiative-show-us-the-data/test/*.json\")\n",
    "\n",
    "# paper_test_folder = '../input/coleridgeinitiative-show-us-the-data/test'\n",
    "# for paper_id in sub_df['Id']:\n",
    "#     with open(f'{paper_test_folder}/{paper_id}.json', 'r') as f:\n",
    "#         paper = json.load(f)\n",
    "#         papers[paper_id] = paper"
   ]
  },
  {
   "cell_type": "code",
   "execution_count": 6,
   "metadata": {
    "execution": {
     "iopub.execute_input": "2021-06-03T12:41:47.453823Z",
     "iopub.status.busy": "2021-06-03T12:41:47.452025Z",
     "iopub.status.idle": "2021-06-03T12:41:47.454374Z",
     "shell.execute_reply": "2021-06-03T12:41:47.454764Z",
     "shell.execute_reply.started": "2021-06-03T12:27:20.686687Z"
    },
    "papermill": {
     "duration": 0.042073,
     "end_time": "2021-06-03T12:41:47.454899",
     "exception": false,
     "start_time": "2021-06-03T12:41:47.412826",
     "status": "completed"
    },
    "tags": []
   },
   "outputs": [],
   "source": [
    "def clean_text(txt):\n",
    "    return re.sub('[^A-Za-z0-9]+', ' ', str(txt).lower()).strip()\n",
    "\n",
    "def totally_clean_text(txt):\n",
    "    txt = clean_text(txt)\n",
    "    txt = re.sub(' +', ' ', txt)\n",
    "    return txt"
   ]
  },
  {
   "cell_type": "code",
   "execution_count": 7,
   "metadata": {
    "execution": {
     "iopub.execute_input": "2021-06-03T12:41:47.513669Z",
     "iopub.status.busy": "2021-06-03T12:41:47.512972Z",
     "iopub.status.idle": "2021-06-03T12:41:47.702061Z",
     "shell.execute_reply": "2021-06-03T12:41:47.700991Z",
     "shell.execute_reply.started": "2021-06-03T12:27:23.269301Z"
    },
    "papermill": {
     "duration": 0.220458,
     "end_time": "2021-06-03T12:41:47.702198",
     "exception": false,
     "start_time": "2021-06-03T12:41:47.481740",
     "status": "completed"
    },
    "tags": []
   },
   "outputs": [],
   "source": [
    "test_df = pd.DataFrame()\n",
    "\n",
    "for test_file in test_files:\n",
    "    text_data=pd.read_json(test_file)\n",
    "    text_data.insert(0,'id', test_file.split('/')[-1].split('.')[0]) \n",
    "    test_df = pd.concat([test_df, text_data])"
   ]
  },
  {
   "cell_type": "code",
   "execution_count": 8,
   "metadata": {
    "execution": {
     "iopub.execute_input": "2021-06-03T12:41:47.761849Z",
     "iopub.status.busy": "2021-06-03T12:41:47.760948Z",
     "iopub.status.idle": "2021-06-03T12:41:47.771426Z",
     "shell.execute_reply": "2021-06-03T12:41:47.770921Z",
     "shell.execute_reply.started": "2021-06-03T12:27:26.393849Z"
    },
    "papermill": {
     "duration": 0.04273,
     "end_time": "2021-06-03T12:41:47.771544",
     "exception": false,
     "start_time": "2021-06-03T12:41:47.728814",
     "status": "completed"
    },
    "tags": []
   },
   "outputs": [
    {
     "name": "stdout",
     "output_type": "stream",
     "text": [
      "Total unique labels: 133\n"
     ]
    }
   ],
   "source": [
    "title1 = [temp_title.lower() for temp_title in train_df['dataset_label'].unique()]\n",
    "label1 = [temp_label.lower() for temp_label in train_df['dataset_title'].unique()]\n",
    "clabel1 = [temp_cleanLabel.lower() for temp_cleanLabel in train_df['cleaned_label'].unique()]\n",
    "\n",
    "all_labels1 = list(set(list(map(clean_text, set(title1))) + list(map(clean_text, set(label1)))))\n",
    "\n",
    "print(f'Total unique labels: {len(all_labels1)}')"
   ]
  },
  {
   "cell_type": "code",
   "execution_count": 9,
   "metadata": {
    "execution": {
     "iopub.execute_input": "2021-06-03T12:41:47.828750Z",
     "iopub.status.busy": "2021-06-03T12:41:47.828247Z",
     "iopub.status.idle": "2021-06-03T12:41:47.860505Z",
     "shell.execute_reply": "2021-06-03T12:41:47.861245Z",
     "shell.execute_reply.started": "2021-06-03T12:28:14.941405Z"
    },
    "papermill": {
     "duration": 0.063281,
     "end_time": "2021-06-03T12:41:47.861379",
     "exception": false,
     "start_time": "2021-06-03T12:41:47.798098",
     "status": "completed"
    },
    "tags": []
   },
   "outputs": [],
   "source": [
    "test_df['cleaned_text'] = test_df.apply(lambda txt: clean_text(txt['text']).strip(), axis =1)"
   ]
  },
  {
   "cell_type": "code",
   "execution_count": 10,
   "metadata": {
    "execution": {
     "iopub.execute_input": "2021-06-03T12:41:47.924272Z",
     "iopub.status.busy": "2021-06-03T12:41:47.923766Z",
     "iopub.status.idle": "2021-06-03T12:41:47.927289Z",
     "shell.execute_reply": "2021-06-03T12:41:47.926710Z",
     "shell.execute_reply.started": "2021-06-03T12:28:18.035814Z"
    },
    "papermill": {
     "duration": 0.03954,
     "end_time": "2021-06-03T12:41:47.927415",
     "exception": false,
     "start_time": "2021-06-03T12:41:47.887875",
     "status": "completed"
    },
    "tags": []
   },
   "outputs": [],
   "source": [
    "test_group = pd.DataFrame(test_df.groupby(['id'])['cleaned_text'].agg(' '.join))"
   ]
  },
  {
   "cell_type": "code",
   "execution_count": 11,
   "metadata": {
    "execution": {
     "iopub.execute_input": "2021-06-03T12:41:47.996360Z",
     "iopub.status.busy": "2021-06-03T12:41:47.995620Z",
     "iopub.status.idle": "2021-06-03T12:41:48.009068Z",
     "shell.execute_reply": "2021-06-03T12:41:48.009527Z",
     "shell.execute_reply.started": "2021-06-03T12:32:02.447435Z"
    },
    "papermill": {
     "duration": 0.055134,
     "end_time": "2021-06-03T12:41:48.009659",
     "exception": false,
     "start_time": "2021-06-03T12:41:47.954525",
     "status": "completed"
    },
    "tags": []
   },
   "outputs": [],
   "source": [
    "result = test_group['cleaned_text'].apply(lambda txt: '|'.join({label for label in all_labels1 if label in txt})).reset_index()\n",
    "result.columns =['Id', 'PredictionString']"
   ]
  },
  {
   "cell_type": "code",
   "execution_count": 12,
   "metadata": {
    "execution": {
     "iopub.execute_input": "2021-06-03T12:41:48.066659Z",
     "iopub.status.busy": "2021-06-03T12:41:48.066181Z",
     "iopub.status.idle": "2021-06-03T12:41:48.070068Z",
     "shell.execute_reply": "2021-06-03T12:41:48.069609Z",
     "shell.execute_reply.started": "2021-06-03T12:33:32.230400Z"
    },
    "papermill": {
     "duration": 0.033562,
     "end_time": "2021-06-03T12:41:48.070174",
     "exception": false,
     "start_time": "2021-06-03T12:41:48.036612",
     "status": "completed"
    },
    "tags": []
   },
   "outputs": [],
   "source": [
    "literal_preds = []\n",
    "\n",
    "for pred in result['PredictionString']:\n",
    "    literal_preds.append(pred)"
   ]
  },
  {
   "cell_type": "code",
   "execution_count": 13,
   "metadata": {
    "execution": {
     "iopub.execute_input": "2021-06-03T12:41:48.128144Z",
     "iopub.status.busy": "2021-06-03T12:41:48.126918Z",
     "iopub.status.idle": "2021-06-03T12:41:48.129886Z",
     "shell.execute_reply": "2021-06-03T12:41:48.129460Z"
    },
    "papermill": {
     "duration": 0.032856,
     "end_time": "2021-06-03T12:41:48.129994",
     "exception": false,
     "start_time": "2021-06-03T12:41:48.097138",
     "status": "completed"
    },
    "tags": []
   },
   "outputs": [],
   "source": [
    "# literal_preds = []\n",
    "\n",
    "# for paper_id in sample_submission['Id']:\n",
    "#     paper = papers[paper_id]\n",
    "#     text_1 = '. '.join(section['text'] for section in paper).lower()\n",
    "#     text_2 = totally_clean_text(text_1)\n",
    "    \n",
    "#     labels = set()\n",
    "#     for label in all_labels:\n",
    "#         if label in text_1 or label in text_2:\n",
    "#             labels.add(clean_text(label))\n",
    "    \n",
    "#     literal_preds.append('|'.join(labels))\n"
   ]
  },
  {
   "cell_type": "code",
   "execution_count": 14,
   "metadata": {
    "execution": {
     "iopub.execute_input": "2021-06-03T12:41:48.187367Z",
     "iopub.status.busy": "2021-06-03T12:41:48.186885Z",
     "iopub.status.idle": "2021-06-03T12:41:48.191766Z",
     "shell.execute_reply": "2021-06-03T12:41:48.192120Z",
     "shell.execute_reply.started": "2021-06-03T12:33:35.243175Z"
    },
    "papermill": {
     "duration": 0.035846,
     "end_time": "2021-06-03T12:41:48.192238",
     "exception": false,
     "start_time": "2021-06-03T12:41:48.156392",
     "status": "completed"
    },
    "tags": []
   },
   "outputs": [
    {
     "data": {
      "text/plain": [
       "['alzheimer s disease neuroimaging initiative adni|adni',\n",
       " 'nces common core of data|common core of data|trends in international mathematics and science study',\n",
       " 'slosh model|noaa storm surge inundation|sea lake and overland surges from hurricanes',\n",
       " 'rural urban continuum codes']"
      ]
     },
     "execution_count": 14,
     "metadata": {},
     "output_type": "execute_result"
    }
   ],
   "source": [
    "literal_preds[:5]"
   ]
  },
  {
   "cell_type": "code",
   "execution_count": 15,
   "metadata": {
    "execution": {
     "iopub.execute_input": "2021-06-03T12:41:48.251501Z",
     "iopub.status.busy": "2021-06-03T12:41:48.249895Z",
     "iopub.status.idle": "2021-06-03T12:41:48.252135Z",
     "shell.execute_reply": "2021-06-03T12:41:48.252505Z",
     "shell.execute_reply.started": "2021-06-03T12:33:52.155934Z"
    },
    "papermill": {
     "duration": 0.03356,
     "end_time": "2021-06-03T12:41:48.252628",
     "exception": false,
     "start_time": "2021-06-03T12:41:48.219068",
     "status": "completed"
    },
    "tags": []
   },
   "outputs": [],
   "source": [
    "MAX_LENGTH = 64 # max no. words for each sentence.\n",
    "OVERLAP = 20 # if a sentence exceeds MAX_LENGTH, we split it to multiple sentences with overlapping\n",
    "\n",
    "PREDICT_BATCH = 64000 \n",
    "\n",
    "PRETRAINED_PATH = '../input/coleridge-bert-models/output'\n",
    "TEST_INPUT_SAVE_PATH = './input_data'\n",
    "TEST_NER_DATA_FILE = 'test_ner_input.json'\n",
    "TRAIN_PATH = '../input/coleridge-bert-models/train_ner.json'\n",
    "VAL_PATH = '../input/coleridge-bert-models/train_ner.json'\n",
    "\n",
    "PREDICTION_SAVE_PATH = './pred'\n",
    "PREDICTION_FILE = 'test_predictions.txt'"
   ]
  },
  {
   "cell_type": "code",
   "execution_count": 16,
   "metadata": {
    "execution": {
     "iopub.execute_input": "2021-06-03T12:41:48.311328Z",
     "iopub.status.busy": "2021-06-03T12:41:48.310753Z",
     "iopub.status.idle": "2021-06-03T12:41:48.668731Z",
     "shell.execute_reply": "2021-06-03T12:41:48.667653Z",
     "shell.execute_reply.started": "2021-06-03T12:34:16.207420Z"
    },
    "papermill": {
     "duration": 0.389494,
     "end_time": "2021-06-03T12:41:48.668890",
     "exception": false,
     "start_time": "2021-06-03T12:41:48.279396",
     "status": "completed"
    },
    "tags": []
   },
   "outputs": [
    {
     "name": "stdout",
     "output_type": "stream",
     "text": [
      "No. grouped training rows: 19661\n"
     ]
    }
   ],
   "source": [
    "train = train_df.groupby('Id').agg({\n",
    "    'pub_title': 'first',\n",
    "    'dataset_title': '|'.join,\n",
    "    'dataset_label': '|'.join,\n",
    "    'cleaned_label': '|'.join\n",
    "}).reset_index()\n",
    "\n",
    "print(f'No. grouped training rows: {len(train_df)}')"
   ]
  },
  {
   "cell_type": "code",
   "execution_count": 17,
   "metadata": {
    "execution": {
     "iopub.execute_input": "2021-06-03T12:41:48.734960Z",
     "iopub.status.busy": "2021-06-03T12:41:48.733824Z",
     "iopub.status.idle": "2021-06-03T12:41:48.736836Z",
     "shell.execute_reply": "2021-06-03T12:41:48.736400Z",
     "shell.execute_reply.started": "2021-06-03T12:34:35.912503Z"
    },
    "papermill": {
     "duration": 0.038396,
     "end_time": "2021-06-03T12:41:48.736937",
     "exception": false,
     "start_time": "2021-06-03T12:41:48.698541",
     "status": "completed"
    },
    "tags": []
   },
   "outputs": [],
   "source": [
    "def clean_training_text(txt):\n",
    "    \"\"\"\n",
    "    similar to the default clean_text function but without lowercasing.\n",
    "    \"\"\"\n",
    "    return re.sub('[^A-Za-z0-9]+', ' ', str(txt)).strip()\n",
    "\n",
    "def shorten_sentences(sentences):\n",
    "    short_sentences = []\n",
    "    for sentence in sentences:\n",
    "        words = sentence.split()\n",
    "        if len(words) > MAX_LENGTH:\n",
    "            for p in range(0, len(words), MAX_LENGTH - OVERLAP):\n",
    "                short_sentences.append(' '.join(words[p:p+MAX_LENGTH]))\n",
    "        else:\n",
    "            short_sentences.append(sentence)\n",
    "    return short_sentences"
   ]
  },
  {
   "cell_type": "code",
   "execution_count": 18,
   "metadata": {
    "execution": {
     "iopub.execute_input": "2021-06-03T12:41:48.840222Z",
     "iopub.status.busy": "2021-06-03T12:41:48.833662Z",
     "iopub.status.idle": "2021-06-03T12:41:48.843252Z",
     "shell.execute_reply": "2021-06-03T12:41:48.843821Z",
     "shell.execute_reply.started": "2021-06-03T12:35:03.513093Z"
    },
    "papermill": {
     "duration": 0.077698,
     "end_time": "2021-06-03T12:41:48.843978",
     "exception": false,
     "start_time": "2021-06-03T12:41:48.766280",
     "status": "completed"
    },
    "tags": []
   },
   "outputs": [
    {
     "name": "stdout",
     "output_type": "stream",
     "text": [
      "total number of sentences: 367\n"
     ]
    }
   ],
   "source": [
    "test_rows = [] # test data in NER format\n",
    "paper_length = [] # store the number of sentences each paper has\n",
    "\n",
    "for paper_id in result['Id']:\n",
    "    # load paper\n",
    "    paper = papers[paper_id]\n",
    "    \n",
    "    # extract sentences\n",
    "    sentences = [clean_training_text(sentence) for section in paper \n",
    "                 for sentence in section['text'].split('.')\n",
    "                ]\n",
    "    sentences = shorten_sentences(sentences) # make sentences short\n",
    "    sentences = [sentence for sentence in sentences if len(sentence) > 10] # only accept sentences with length > 10 chars\n",
    "    sentences = [sentence for sentence in sentences if any(word in sentence.lower() for word in ['data', 'study'])]\n",
    "        \n",
    "    # collect all sentences in json\n",
    "    for sentence in sentences:\n",
    "        sentence_words = sentence.split()\n",
    "        dummy_tags = ['O']*len(sentence_words)\n",
    "        test_rows.append({'tokens' : sentence_words, 'tags' : dummy_tags})\n",
    "    \n",
    "    # track which sentence belongs to which data point\n",
    "    paper_length.append(len(sentences))\n",
    "    \n",
    "print(f'total number of sentences: {len(test_rows)}')"
   ]
  },
  {
   "cell_type": "code",
   "execution_count": 19,
   "metadata": {
    "execution": {
     "iopub.execute_input": "2021-06-03T12:41:48.905721Z",
     "iopub.status.busy": "2021-06-03T12:41:48.903963Z",
     "iopub.status.idle": "2021-06-03T12:41:48.906269Z",
     "shell.execute_reply": "2021-06-03T12:41:48.906642Z",
     "shell.execute_reply.started": "2021-06-03T12:35:21.909051Z"
    },
    "papermill": {
     "duration": 0.034465,
     "end_time": "2021-06-03T12:41:48.906772",
     "exception": false,
     "start_time": "2021-06-03T12:41:48.872307",
     "status": "completed"
    },
    "tags": []
   },
   "outputs": [],
   "source": [
    "os.environ[\"MODEL_PATH\"] = f\"{PRETRAINED_PATH}\"\n",
    "os.environ[\"TRAIN_FILE\"] = f\"{TRAIN_PATH}\"\n",
    "os.environ[\"VALIDATION_FILE\"] = f\"{VAL_PATH}\"\n",
    "os.environ[\"TEST_FILE\"] = f\"{TEST_INPUT_SAVE_PATH}/{TEST_NER_DATA_FILE}\"\n",
    "os.environ[\"OUTPUT_DIR\"] = f\"{PREDICTION_SAVE_PATH}\""
   ]
  },
  {
   "cell_type": "code",
   "execution_count": 20,
   "metadata": {
    "execution": {
     "iopub.execute_input": "2021-06-03T12:41:48.978246Z",
     "iopub.status.busy": "2021-06-03T12:41:48.965875Z",
     "iopub.status.idle": "2021-06-03T12:41:49.629724Z",
     "shell.execute_reply": "2021-06-03T12:41:49.629032Z",
     "shell.execute_reply.started": "2021-06-03T12:35:25.624237Z"
    },
    "papermill": {
     "duration": 0.695776,
     "end_time": "2021-06-03T12:41:49.629888",
     "exception": false,
     "start_time": "2021-06-03T12:41:48.934112",
     "status": "completed"
    },
    "tags": []
   },
   "outputs": [],
   "source": [
    "# copy my_seqeval.py to the working directory because the input directory is non-writable\n",
    "!cp /kaggle/input/coleridge-packages/my_seqeval.py ./\n",
    "\n",
    "# make necessart directories and files\n",
    "os.makedirs(TEST_INPUT_SAVE_PATH, exist_ok=True)"
   ]
  },
  {
   "cell_type": "code",
   "execution_count": 21,
   "metadata": {
    "execution": {
     "iopub.execute_input": "2021-06-03T12:41:49.691875Z",
     "iopub.status.busy": "2021-06-03T12:41:49.691345Z",
     "iopub.status.idle": "2021-06-03T12:41:49.695027Z",
     "shell.execute_reply": "2021-06-03T12:41:49.694582Z",
     "shell.execute_reply.started": "2021-06-03T12:35:30.048950Z"
    },
    "papermill": {
     "duration": 0.03592,
     "end_time": "2021-06-03T12:41:49.695143",
     "exception": false,
     "start_time": "2021-06-03T12:41:49.659223",
     "status": "completed"
    },
    "tags": []
   },
   "outputs": [],
   "source": [
    "def bert_predict():\n",
    "    !python ../input/kaggle-ner-utils/kaggle_run_ner.py \\\n",
    "    --model_name_or_path \"$MODEL_PATH\" \\\n",
    "    --train_file \"$TRAIN_FILE\" \\\n",
    "    --validation_file \"$VALIDATION_FILE\" \\\n",
    "    --test_file \"$TEST_FILE\" \\\n",
    "    --output_dir \"$OUTPUT_DIR\" \\\n",
    "    --report_to 'none' \\\n",
    "    --seed 123 \\\n",
    "    --do_predict"
   ]
  },
  {
   "cell_type": "code",
   "execution_count": 22,
   "metadata": {
    "execution": {
     "iopub.execute_input": "2021-06-03T12:41:49.760046Z",
     "iopub.status.busy": "2021-06-03T12:41:49.759256Z",
     "iopub.status.idle": "2021-06-03T12:43:06.360328Z",
     "shell.execute_reply": "2021-06-03T12:43:06.359343Z",
     "shell.execute_reply.started": "2021-06-03T12:35:33.354310Z"
    },
    "papermill": {
     "duration": 76.636785,
     "end_time": "2021-06-03T12:43:06.360483",
     "exception": false,
     "start_time": "2021-06-03T12:41:49.723698",
     "status": "completed"
    },
    "tags": []
   },
   "outputs": [
    {
     "name": "stdout",
     "output_type": "stream",
     "text": [
      "rm: cannot remove './pred': No such file or directory\r\n",
      "2021-06-03 12:41:54.755225: I tensorflow/stream_executor/platform/default/dso_loader.cc:49] Successfully opened dynamic library libcudart.so.10.2\r\n",
      "Downloading and preparing dataset json/default (download: Unknown size, generated: Unknown size, post-processed: Unknown size, total: Unknown size) to /root/.cache/huggingface/datasets/json/default-642b227a9a1105c9/0.0.0/83d5b3a2f62630efc6b5315f00f20209b4ad91a00ac586597caee3a4da0bef02...\r\n",
      "Dataset json downloaded and prepared to /root/.cache/huggingface/datasets/json/default-642b227a9a1105c9/0.0.0/83d5b3a2f62630efc6b5315f00f20209b4ad91a00ac586597caee3a4da0bef02. Subsequent calls will reuse this data.\r\n",
      "[INFO|configuration_utils.py:470] 2021-06-03 12:42:47,024 >> loading configuration file ../input/coleridge-bert-models/output/config.json\r\n",
      "[INFO|configuration_utils.py:508] 2021-06-03 12:42:47,024 >> Model config BertConfig {\r\n",
      "  \"_name_or_path\": \"bert-base-cased\",\r\n",
      "  \"architectures\": [\r\n",
      "    \"BertForTokenClassification\"\r\n",
      "  ],\r\n",
      "  \"attention_probs_dropout_prob\": 0.1,\r\n",
      "  \"finetuning_task\": \"ner\",\r\n",
      "  \"gradient_checkpointing\": false,\r\n",
      "  \"hidden_act\": \"gelu\",\r\n",
      "  \"hidden_dropout_prob\": 0.1,\r\n",
      "  \"hidden_size\": 768,\r\n",
      "  \"id2label\": {\r\n",
      "    \"0\": \"LABEL_0\",\r\n",
      "    \"1\": \"LABEL_1\",\r\n",
      "    \"2\": \"LABEL_2\"\r\n",
      "  },\r\n",
      "  \"initializer_range\": 0.02,\r\n",
      "  \"intermediate_size\": 3072,\r\n",
      "  \"label2id\": {\r\n",
      "    \"LABEL_0\": 0,\r\n",
      "    \"LABEL_1\": 1,\r\n",
      "    \"LABEL_2\": 2\r\n",
      "  },\r\n",
      "  \"layer_norm_eps\": 1e-12,\r\n",
      "  \"max_position_embeddings\": 512,\r\n",
      "  \"model_type\": \"bert\",\r\n",
      "  \"num_attention_heads\": 12,\r\n",
      "  \"num_hidden_layers\": 12,\r\n",
      "  \"pad_token_id\": 0,\r\n",
      "  \"position_embedding_type\": \"absolute\",\r\n",
      "  \"transformers_version\": \"4.5.0.dev0\",\r\n",
      "  \"type_vocab_size\": 2,\r\n",
      "  \"use_cache\": true,\r\n",
      "  \"vocab_size\": 28996\r\n",
      "}\r\n",
      "\r\n",
      "[INFO|configuration_utils.py:470] 2021-06-03 12:42:47,025 >> loading configuration file ../input/coleridge-bert-models/output/config.json\r\n",
      "[INFO|configuration_utils.py:508] 2021-06-03 12:42:47,026 >> Model config BertConfig {\r\n",
      "  \"_name_or_path\": \"bert-base-cased\",\r\n",
      "  \"architectures\": [\r\n",
      "    \"BertForTokenClassification\"\r\n",
      "  ],\r\n",
      "  \"attention_probs_dropout_prob\": 0.1,\r\n",
      "  \"finetuning_task\": \"ner\",\r\n",
      "  \"gradient_checkpointing\": false,\r\n",
      "  \"hidden_act\": \"gelu\",\r\n",
      "  \"hidden_dropout_prob\": 0.1,\r\n",
      "  \"hidden_size\": 768,\r\n",
      "  \"id2label\": {\r\n",
      "    \"0\": \"LABEL_0\",\r\n",
      "    \"1\": \"LABEL_1\",\r\n",
      "    \"2\": \"LABEL_2\"\r\n",
      "  },\r\n",
      "  \"initializer_range\": 0.02,\r\n",
      "  \"intermediate_size\": 3072,\r\n",
      "  \"label2id\": {\r\n",
      "    \"LABEL_0\": 0,\r\n",
      "    \"LABEL_1\": 1,\r\n",
      "    \"LABEL_2\": 2\r\n",
      "  },\r\n",
      "  \"layer_norm_eps\": 1e-12,\r\n",
      "  \"max_position_embeddings\": 512,\r\n",
      "  \"model_type\": \"bert\",\r\n",
      "  \"num_attention_heads\": 12,\r\n",
      "  \"num_hidden_layers\": 12,\r\n",
      "  \"pad_token_id\": 0,\r\n",
      "  \"position_embedding_type\": \"absolute\",\r\n",
      "  \"transformers_version\": \"4.5.0.dev0\",\r\n",
      "  \"type_vocab_size\": 2,\r\n",
      "  \"use_cache\": true,\r\n",
      "  \"vocab_size\": 28996\r\n",
      "}\r\n",
      "\r\n",
      "[INFO|tokenization_utils_base.py:1637] 2021-06-03 12:42:47,028 >> Didn't find file ../input/coleridge-bert-models/output/tokenizer.json. We won't load it.\r\n",
      "[INFO|tokenization_utils_base.py:1637] 2021-06-03 12:42:47,028 >> Didn't find file ../input/coleridge-bert-models/output/added_tokens.json. We won't load it.\r\n",
      "[INFO|tokenization_utils_base.py:1700] 2021-06-03 12:42:47,033 >> loading file ../input/coleridge-bert-models/output/vocab.txt\r\n",
      "[INFO|tokenization_utils_base.py:1700] 2021-06-03 12:42:47,033 >> loading file None\r\n",
      "[INFO|tokenization_utils_base.py:1700] 2021-06-03 12:42:47,033 >> loading file None\r\n",
      "[INFO|tokenization_utils_base.py:1700] 2021-06-03 12:42:47,033 >> loading file ../input/coleridge-bert-models/output/special_tokens_map.json\r\n",
      "[INFO|tokenization_utils_base.py:1700] 2021-06-03 12:42:47,033 >> loading file ../input/coleridge-bert-models/output/tokenizer_config.json\r\n",
      "[INFO|modeling_utils.py:1049] 2021-06-03 12:42:47,095 >> loading weights file ../input/coleridge-bert-models/output/pytorch_model.bin\r\n",
      "[INFO|modeling_utils.py:1167] 2021-06-03 12:42:55,223 >> All model checkpoint weights were used when initializing BertForTokenClassification.\r\n",
      "\r\n",
      "[INFO|modeling_utils.py:1176] 2021-06-03 12:42:55,223 >> All the weights of BertForTokenClassification were initialized from the model checkpoint at ../input/coleridge-bert-models/output.\r\n",
      "If your task is similar to the task the model of the checkpoint was trained on, you can already use BertForTokenClassification for predictions without further training.\r\n",
      "100%|█████████████████████████████████████████████| 1/1 [00:00<00:00,  9.03ba/s]\r\n",
      "[INFO|trainer.py:485] 2021-06-03 12:43:02,159 >> The following columns in the test set  don't have a corresponding argument in `BertForTokenClassification.forward` and have been ignored: tags, tokens.\r\n",
      "[INFO|trainer.py:1817] 2021-06-03 12:43:02,161 >> ***** Running Prediction *****\r\n",
      "[INFO|trainer.py:1818] 2021-06-03 12:43:02,161 >>   Num examples = 367\r\n",
      "[INFO|trainer.py:1819] 2021-06-03 12:43:02,162 >>   Batch size = 8\r\n",
      " 98%|██████████████████████████████████████████ | 45/46 [00:01<00:00, 25.25it/s]/opt/conda/lib/python3.7/site-packages/seqeval/metrics/v1.py:57: UndefinedMetricWarning: Recall and F-score are ill-defined and being set to 0.0 due to no true samples. Use `zero_division` parameter to control this behavior.\r\n",
      "  _warn_prf(average, modifier, msg_start, len(result))\r\n",
      "[INFO|trainer_pt_utils.py:735] 2021-06-03 12:43:05,296 >> ***** test metrics *****\r\n",
      "[INFO|trainer_pt_utils.py:740] 2021-06-03 12:43:05,296 >>   init_mem_cpu_alloc_delta  =     1460MB\r\n",
      "[INFO|trainer_pt_utils.py:740] 2021-06-03 12:43:05,296 >>   init_mem_cpu_peaked_delta =      300MB\r\n",
      "[INFO|trainer_pt_utils.py:740] 2021-06-03 12:43:05,296 >>   init_mem_gpu_alloc_delta  =      411MB\r\n",
      "[INFO|trainer_pt_utils.py:740] 2021-06-03 12:43:05,296 >>   init_mem_gpu_peaked_delta =        0MB\r\n",
      "[INFO|trainer_pt_utils.py:740] 2021-06-03 12:43:05,296 >>   test_accuracy             =     0.9958\r\n",
      "[INFO|trainer_pt_utils.py:740] 2021-06-03 12:43:05,296 >>   test_f1                   =        0.0\r\n",
      "[INFO|trainer_pt_utils.py:740] 2021-06-03 12:43:05,296 >>   test_loss                 =     0.0216\r\n",
      "[INFO|trainer_pt_utils.py:740] 2021-06-03 12:43:05,296 >>   test_mem_cpu_alloc_delta  =       78MB\r\n",
      "[INFO|trainer_pt_utils.py:740] 2021-06-03 12:43:05,296 >>   test_mem_cpu_peaked_delta =        0MB\r\n",
      "[INFO|trainer_pt_utils.py:740] 2021-06-03 12:43:05,296 >>   test_mem_gpu_alloc_delta  =        0MB\r\n",
      "[INFO|trainer_pt_utils.py:740] 2021-06-03 12:43:05,296 >>   test_mem_gpu_peaked_delta =       22MB\r\n",
      "[INFO|trainer_pt_utils.py:740] 2021-06-03 12:43:05,296 >>   test_precision            =        0.0\r\n",
      "[INFO|trainer_pt_utils.py:740] 2021-06-03 12:43:05,296 >>   test_recall               =        0.0\r\n",
      "[INFO|trainer_pt_utils.py:740] 2021-06-03 12:43:05,296 >>   test_runtime              = 0:00:02.99\r\n",
      "[INFO|trainer_pt_utils.py:740] 2021-06-03 12:43:05,296 >>   test_samples_per_second   =    122.405\r\n",
      "100%|███████████████████████████████████████████| 46/46 [00:02<00:00, 19.90it/s]\r\n"
     ]
    }
   ],
   "source": [
    "bert_outputs = []\n",
    "\n",
    "for batch_begin in range(0, len(test_rows), PREDICT_BATCH):\n",
    "    # write data rows to input file\n",
    "    with open(f'{TEST_INPUT_SAVE_PATH}/{TEST_NER_DATA_FILE}', 'w') as f:\n",
    "        for row in test_rows[batch_begin:batch_begin+PREDICT_BATCH]:\n",
    "            json.dump(row, f)\n",
    "            f.write('\\n')\n",
    "    \n",
    "    # remove output dir\n",
    "    !rm -r \"$OUTPUT_DIR\"\n",
    "    \n",
    "    # do predict\n",
    "    bert_predict()\n",
    "    \n",
    "    # read predictions\n",
    "    with open(f'{PREDICTION_SAVE_PATH}/{PREDICTION_FILE}') as f:\n",
    "        this_preds = f.read().split('\\n')[:-1]\n",
    "        bert_outputs += [pred.split() for pred in this_preds]"
   ]
  },
  {
   "cell_type": "markdown",
   "metadata": {
    "papermill": {
     "duration": 0.035777,
     "end_time": "2021-06-03T12:43:06.433554",
     "exception": false,
     "start_time": "2021-06-03T12:43:06.397777",
     "status": "completed"
    },
    "tags": []
   },
   "source": [
    "### Restore Dataset labels from predictions"
   ]
  },
  {
   "cell_type": "code",
   "execution_count": 23,
   "metadata": {
    "execution": {
     "iopub.execute_input": "2021-06-03T12:43:06.510438Z",
     "iopub.status.busy": "2021-06-03T12:43:06.509563Z",
     "iopub.status.idle": "2021-06-03T12:43:06.512764Z",
     "shell.execute_reply": "2021-06-03T12:43:06.512218Z",
     "shell.execute_reply.started": "2021-06-03T12:37:29.716860Z"
    },
    "papermill": {
     "duration": 0.043425,
     "end_time": "2021-06-03T12:43:06.512875",
     "exception": false,
     "start_time": "2021-06-03T12:43:06.469450",
     "status": "completed"
    },
    "tags": []
   },
   "outputs": [],
   "source": [
    "# get test sentences\n",
    "test_sentences = [row['tokens'] for row in test_rows]\n",
    "\n",
    "del test_rows"
   ]
  },
  {
   "cell_type": "code",
   "execution_count": 24,
   "metadata": {
    "execution": {
     "iopub.execute_input": "2021-06-03T12:43:06.594704Z",
     "iopub.status.busy": "2021-06-03T12:43:06.593985Z",
     "iopub.status.idle": "2021-06-03T12:43:06.597048Z",
     "shell.execute_reply": "2021-06-03T12:43:06.596222Z",
     "shell.execute_reply.started": "2021-06-03T12:37:33.394948Z"
    },
    "papermill": {
     "duration": 0.048465,
     "end_time": "2021-06-03T12:43:06.597180",
     "exception": false,
     "start_time": "2021-06-03T12:43:06.548715",
     "status": "completed"
    },
    "tags": []
   },
   "outputs": [],
   "source": [
    "bert_dataset_labels = [] # store all dataset labels for each publication\n",
    "\n",
    "for length in paper_length:\n",
    "    labels = set()\n",
    "    for sentence, pred in zip(test_sentences[:length], bert_outputs[:length]):\n",
    "        curr_phrase = ''\n",
    "        for word, tag in zip(sentence, pred):\n",
    "            if tag == 'B': # start a new phrase\n",
    "                if curr_phrase:\n",
    "                    labels.add(curr_phrase)\n",
    "                    curr_phrase = ''\n",
    "                curr_phrase = word\n",
    "            elif tag == 'I' and curr_phrase: # continue the phrase\n",
    "                curr_phrase += ' ' + word\n",
    "            else: # end last phrase (if any)\n",
    "                if curr_phrase:\n",
    "                    labels.add(curr_phrase)\n",
    "                    curr_phrase = ''\n",
    "        # check if the label is the suffix of the sentence\n",
    "        if curr_phrase:\n",
    "            labels.add(curr_phrase)\n",
    "            curr_phrase = ''\n",
    "    \n",
    "    # record dataset labels for this publication\n",
    "    bert_dataset_labels.append(labels)\n",
    "    \n",
    "    del test_sentences[:length], bert_outputs[:length]"
   ]
  },
  {
   "cell_type": "code",
   "execution_count": 25,
   "metadata": {
    "execution": {
     "iopub.execute_input": "2021-06-03T12:43:06.673784Z",
     "iopub.status.busy": "2021-06-03T12:43:06.672921Z",
     "iopub.status.idle": "2021-06-03T12:43:06.676661Z",
     "shell.execute_reply": "2021-06-03T12:43:06.676265Z",
     "shell.execute_reply.started": "2021-06-03T12:37:37.037941Z"
    },
    "papermill": {
     "duration": 0.043755,
     "end_time": "2021-06-03T12:43:06.676781",
     "exception": false,
     "start_time": "2021-06-03T12:43:06.633026",
     "status": "completed"
    },
    "tags": []
   },
   "outputs": [
    {
     "data": {
      "text/plain": [
       "[{'Alzheimer s Disease Neuroimaging Initiative ADNI'},\n",
       " {'Trends in International Mathematics and Science Study'},\n",
       " set(),\n",
       " set()]"
      ]
     },
     "execution_count": 25,
     "metadata": {},
     "output_type": "execute_result"
    }
   ],
   "source": [
    "bert_dataset_labels[:5]"
   ]
  },
  {
   "cell_type": "markdown",
   "metadata": {
    "papermill": {
     "duration": 0.036157,
     "end_time": "2021-06-03T12:43:06.749305",
     "exception": false,
     "start_time": "2021-06-03T12:43:06.713148",
     "status": "completed"
    },
    "tags": []
   },
   "source": [
    "### Filter based on Jaccard score and clean"
   ]
  },
  {
   "cell_type": "code",
   "execution_count": 26,
   "metadata": {
    "execution": {
     "iopub.execute_input": "2021-06-03T12:43:06.828865Z",
     "iopub.status.busy": "2021-06-03T12:43:06.828032Z",
     "iopub.status.idle": "2021-06-03T12:43:06.830547Z",
     "shell.execute_reply": "2021-06-03T12:43:06.830136Z",
     "shell.execute_reply.started": "2021-06-03T12:37:50.513358Z"
    },
    "papermill": {
     "duration": 0.045153,
     "end_time": "2021-06-03T12:43:06.830657",
     "exception": false,
     "start_time": "2021-06-03T12:43:06.785504",
     "status": "completed"
    },
    "tags": []
   },
   "outputs": [],
   "source": [
    "def jaccard_similarity(s1, s2):\n",
    "    l1 = s1.split(\" \")\n",
    "    l2 = s2.split(\" \")    \n",
    "    intersection = len(list(set(l1).intersection(l2)))\n",
    "    union = (len(l1) + len(l2)) - intersection\n",
    "    return float(intersection) / union\n",
    "\n",
    "filtered_bert_labels = []\n",
    "\n",
    "for labels in bert_dataset_labels:\n",
    "    filtered = []\n",
    "    \n",
    "    for label in sorted(labels, key=len):\n",
    "        label = clean_text(label)\n",
    "        if len(filtered) == 0 or all(jaccard_similarity(label, got_label) < 0.75 for got_label in filtered):\n",
    "            filtered.append(label)\n",
    "    \n",
    "    filtered_bert_labels.append('|'.join(filtered))"
   ]
  },
  {
   "cell_type": "code",
   "execution_count": 27,
   "metadata": {
    "execution": {
     "iopub.execute_input": "2021-06-03T12:43:06.908146Z",
     "iopub.status.busy": "2021-06-03T12:43:06.907321Z",
     "iopub.status.idle": "2021-06-03T12:43:06.910917Z",
     "shell.execute_reply": "2021-06-03T12:43:06.910465Z",
     "shell.execute_reply.started": "2021-06-03T12:37:55.463038Z"
    },
    "papermill": {
     "duration": 0.044007,
     "end_time": "2021-06-03T12:43:06.911024",
     "exception": false,
     "start_time": "2021-06-03T12:43:06.867017",
     "status": "completed"
    },
    "tags": []
   },
   "outputs": [
    {
     "data": {
      "text/plain": [
       "['alzheimer s disease neuroimaging initiative adni',\n",
       " 'trends in international mathematics and science study',\n",
       " '',\n",
       " '']"
      ]
     },
     "execution_count": 27,
     "metadata": {},
     "output_type": "execute_result"
    }
   ],
   "source": [
    "filtered_bert_labels[:5]"
   ]
  },
  {
   "cell_type": "markdown",
   "metadata": {
    "papermill": {
     "duration": 0.036474,
     "end_time": "2021-06-03T12:43:06.984096",
     "exception": false,
     "start_time": "2021-06-03T12:43:06.947622",
     "status": "completed"
    },
    "tags": []
   },
   "source": [
    "# Aggregate final predictions and write submission file"
   ]
  },
  {
   "cell_type": "code",
   "execution_count": 28,
   "metadata": {
    "execution": {
     "iopub.execute_input": "2021-06-03T12:43:07.062840Z",
     "iopub.status.busy": "2021-06-03T12:43:07.061982Z",
     "iopub.status.idle": "2021-06-03T12:43:07.063950Z",
     "shell.execute_reply": "2021-06-03T12:43:07.064396Z",
     "shell.execute_reply.started": "2021-06-03T12:38:00.622130Z"
    },
    "papermill": {
     "duration": 0.043274,
     "end_time": "2021-06-03T12:43:07.064514",
     "exception": false,
     "start_time": "2021-06-03T12:43:07.021240",
     "status": "completed"
    },
    "tags": []
   },
   "outputs": [],
   "source": [
    "final_predictions = []\n",
    "for literal_match, bert_pred in zip(literal_preds, filtered_bert_labels):\n",
    "    if literal_match:\n",
    "        final_predictions.append(literal_match)\n",
    "    else:\n",
    "        final_predictions.append(bert_pred)"
   ]
  },
  {
   "cell_type": "code",
   "execution_count": 29,
   "metadata": {
    "execution": {
     "iopub.execute_input": "2021-06-03T12:43:07.147409Z",
     "iopub.status.busy": "2021-06-03T12:43:07.146913Z",
     "iopub.status.idle": "2021-06-03T12:43:07.154653Z",
     "shell.execute_reply": "2021-06-03T12:43:07.154091Z",
     "shell.execute_reply.started": "2021-06-03T12:38:16.065544Z"
    },
    "papermill": {
     "duration": 0.053708,
     "end_time": "2021-06-03T12:43:07.154771",
     "exception": false,
     "start_time": "2021-06-03T12:43:07.101063",
     "status": "completed"
    },
    "tags": []
   },
   "outputs": [
    {
     "data": {
      "text/html": [
       "<div>\n",
       "<style scoped>\n",
       "    .dataframe tbody tr th:only-of-type {\n",
       "        vertical-align: middle;\n",
       "    }\n",
       "\n",
       "    .dataframe tbody tr th {\n",
       "        vertical-align: top;\n",
       "    }\n",
       "\n",
       "    .dataframe thead th {\n",
       "        text-align: right;\n",
       "    }\n",
       "</style>\n",
       "<table border=\"1\" class=\"dataframe\">\n",
       "  <thead>\n",
       "    <tr style=\"text-align: right;\">\n",
       "      <th></th>\n",
       "      <th>Id</th>\n",
       "      <th>PredictionString</th>\n",
       "    </tr>\n",
       "  </thead>\n",
       "  <tbody>\n",
       "    <tr>\n",
       "      <th>0</th>\n",
       "      <td>2100032a-7c33-4bff-97ef-690822c43466</td>\n",
       "      <td>alzheimer s disease neuroimaging initiative ad...</td>\n",
       "    </tr>\n",
       "    <tr>\n",
       "      <th>1</th>\n",
       "      <td>2f392438-e215-4169-bebf-21ac4ff253e1</td>\n",
       "      <td>nces common core of data|common core of data|t...</td>\n",
       "    </tr>\n",
       "    <tr>\n",
       "      <th>2</th>\n",
       "      <td>3f316b38-1a24-45a9-8d8c-4e05a42257c6</td>\n",
       "      <td>slosh model|noaa storm surge inundation|sea la...</td>\n",
       "    </tr>\n",
       "    <tr>\n",
       "      <th>3</th>\n",
       "      <td>8e6996b4-ca08-4c0b-bed2-aaf07a4c6a60</td>\n",
       "      <td>rural urban continuum codes</td>\n",
       "    </tr>\n",
       "  </tbody>\n",
       "</table>\n",
       "</div>"
      ],
      "text/plain": [
       "                                     Id  \\\n",
       "0  2100032a-7c33-4bff-97ef-690822c43466   \n",
       "1  2f392438-e215-4169-bebf-21ac4ff253e1   \n",
       "2  3f316b38-1a24-45a9-8d8c-4e05a42257c6   \n",
       "3  8e6996b4-ca08-4c0b-bed2-aaf07a4c6a60   \n",
       "\n",
       "                                    PredictionString  \n",
       "0  alzheimer s disease neuroimaging initiative ad...  \n",
       "1  nces common core of data|common core of data|t...  \n",
       "2  slosh model|noaa storm surge inundation|sea la...  \n",
       "3                        rural urban continuum codes  "
      ]
     },
     "execution_count": 29,
     "metadata": {},
     "output_type": "execute_result"
    }
   ],
   "source": [
    "result['PredictionString'] = final_predictions\n",
    "result.head()"
   ]
  },
  {
   "cell_type": "code",
   "execution_count": 30,
   "metadata": {
    "execution": {
     "iopub.execute_input": "2021-06-03T12:43:07.232963Z",
     "iopub.status.busy": "2021-06-03T12:43:07.232122Z",
     "iopub.status.idle": "2021-06-03T12:43:07.237566Z",
     "shell.execute_reply": "2021-06-03T12:43:07.237148Z",
     "shell.execute_reply.started": "2021-06-03T12:38:29.612762Z"
    },
    "papermill": {
     "duration": 0.046093,
     "end_time": "2021-06-03T12:43:07.237677",
     "exception": false,
     "start_time": "2021-06-03T12:43:07.191584",
     "status": "completed"
    },
    "tags": []
   },
   "outputs": [],
   "source": [
    "result.to_csv(f'submission.csv', index=False)"
   ]
  }
 ],
 "metadata": {
  "kernelspec": {
   "display_name": "Python 3",
   "language": "python",
   "name": "python3"
  },
  "language_info": {
   "codemirror_mode": {
    "name": "ipython",
    "version": 3
   },
   "file_extension": ".py",
   "mimetype": "text/x-python",
   "name": "python",
   "nbconvert_exporter": "python",
   "pygments_lexer": "ipython3",
   "version": "3.7.9"
  },
  "papermill": {
   "default_parameters": {},
   "duration": 222.669867,
   "end_time": "2021-06-03T12:43:08.087404",
   "environment_variables": {},
   "exception": null,
   "input_path": "__notebook__.ipynb",
   "output_path": "__notebook__.ipynb",
   "parameters": {},
   "start_time": "2021-06-03T12:39:25.417537",
   "version": "2.2.2"
  }
 },
 "nbformat": 4,
 "nbformat_minor": 4
}
